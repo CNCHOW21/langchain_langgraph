{
 "cells": [
  {
   "metadata": {},
   "cell_type": "raw",
   "source": [
    "# 必要环境安装\n",
    "# !pip install --upgrade llama-index\n",
    "\n",
    "# !pip install llama-index-llms-dashscope\n",
    "# !pip install llama-index-llms-openai-like\n",
    "# !pip install llama-index-embeddings-dashscope\n",
    "\n",
    "# 使用llamaIndex-new的环境\n",
    "\n",
    "https://cloud.llamaindex.ai/login 注册并获取 api-key\n",
    "然后安装\n",
    "# !pip install llama-cloud-services\n",
    "\n",
    "直接读取网页\n",
    "# !pip install llama-index-readers-web\n",
    "\n",
    "文件解析\n",
    "https://llamahub.ai/l/readers/llama-index-readers-file\n",
    "\n",
    "安装Qdrant向量数据库\n",
    "# !pip install llama-index-vector-stores-qdrant\n",
    "\n",
    "安装deepseek库\n",
    "# !pip install llama-index-llms-deepseek"
   ],
   "id": "be79d6357720544e"
  },
  {
   "metadata": {},
   "cell_type": "markdown",
   "source": "",
   "id": "2ef25bf2201d2877"
  }
 ],
 "metadata": {
  "kernelspec": {
   "display_name": "Python 3",
   "language": "python",
   "name": "python3"
  },
  "language_info": {
   "codemirror_mode": {
    "name": "ipython",
    "version": 2
   },
   "file_extension": ".py",
   "mimetype": "text/x-python",
   "name": "python",
   "nbconvert_exporter": "python",
   "pygments_lexer": "ipython2",
   "version": "2.7.6"
  }
 },
 "nbformat": 4,
 "nbformat_minor": 5
}
