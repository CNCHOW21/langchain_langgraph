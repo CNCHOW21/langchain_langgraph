{
 "cells": [
  {
   "metadata": {},
   "cell_type": "markdown",
   "source": "使用learning环境",
   "id": "c9ae55421ff18efa"
  },
  {
   "metadata": {},
   "cell_type": "markdown",
   "source": [
    "# !pip install pypdf2\n",
    "# !pip install dashscope\n",
    "# !pip install langchain\n",
    "# !pip install langchain-openai\n",
    "# !pip install langchain-community\n",
    "# !pip install faiss-cpu\n",
    "\n",
    "# !pip install -U \"qwen-agent[rag,code_interpreter,gui,mcp]\"\n",
    "\n",
    "# !pip install pypdf\n",
    "# !pip install ragas\n",
    "# !pip install langchain\n",
    "# !pip install chromadb"
   ],
   "id": "62bebdd403552988"
  }
 ],
 "metadata": {
  "kernelspec": {
   "display_name": "Python 3",
   "language": "python",
   "name": "python3"
  },
  "language_info": {
   "codemirror_mode": {
    "name": "ipython",
    "version": 2
   },
   "file_extension": ".py",
   "mimetype": "text/x-python",
   "name": "python",
   "nbconvert_exporter": "python",
   "pygments_lexer": "ipython2",
   "version": "2.7.6"
  }
 },
 "nbformat": 4,
 "nbformat_minor": 5
}
