{
 "cells": [
  {
   "cell_type": "code",
   "id": "initial_id",
   "metadata": {
    "collapsed": true,
    "ExecuteTime": {
     "end_time": "2025-08-09T12:41:53.645627Z",
     "start_time": "2025-08-09T12:41:49.132110Z"
    }
   },
   "source": [
    "# @Time    : 2025/8/9 17:51\n",
    "# @Author  : liuzhou\n",
    "# @File    : 1_context_bot.py\n",
    "# @software: PyCharm\n",
    "import io\n",
    "from typing import Annotated\n",
    "\n",
    "from IPython.display import display\n",
    "from dotenv import load_dotenv\n",
    "from IPython.display import Image\n",
    "from langchain.chat_models import init_chat_model\n",
    "from langgraph.graph import StateGraph, START, END\n",
    "from langgraph.graph.message import add_messages\n",
    "from matplotlib import pyplot as plt\n",
    "from typing_extensions import TypedDict\n",
    "\n",
    "load_dotenv()\n",
    "\n",
    "# 定义state\n",
    "class State(TypedDict):\n",
    "    # 状态变量messages类型是list，更新方式是add_messages\n",
    "    # add_messages是内置的一个办法，将新的消息追加在原列表后面\n",
    "    messages: Annotated[list, add_messages]\n",
    "\n",
    "# 创建Graph，状态机\n",
    "graph_builder  = StateGraph(State)\n",
    "\n",
    "# 定义模型\n",
    "llm = init_chat_model(\"gpt-4o\", model_provider=\"openai\")\n",
    "\n",
    "# 定义一个执行节点\n",
    "# 输入是State，输出是系统回复\n",
    "def chatbot(state: State):\n",
    "    # 调用大模型，并返回消息（列表）\n",
    "    return {\"messages\": [llm.invoke(state[\"messages\"])]}\n",
    "\n",
    "# 定义工作流，包含节点和边\n",
    "graph_builder.add_node(\"chatbot\", chatbot)\n",
    "graph_builder.add_edge(START, \"chatbot\")\n",
    "graph_builder.add_edge(\"chatbot\", END)\n",
    "\n",
    "graph = graph_builder.compile()\n",
    "\n",
    "# 可视化展示工作流\n",
    "try:\n",
    "    display(Image(data=graph.get_graph().draw_png()))\n",
    "except Exception as e:\n",
    "    print(e)"
   ],
   "outputs": [
    {
     "name": "stdout",
     "output_type": "stream",
     "text": [
      "Warning: Could not load \"G:\\develop\\conda\\envs\\langgraph\\Library\\bin\\gvplugin_pango.dll\" - It was found, so perhaps one of its dependents was not.  Try ldd.\r\n",
      "Warning: Could not load \"G:\\develop\\conda\\envs\\langgraph\\Library\\bin\\gvplugin_pango.dll\" - It was found, so perhaps one of its dependents was not.  Try ldd.\r\n",
      "Warning: Could not load \"G:\\develop\\conda\\envs\\langgraph\\Library\\bin\\gvplugin_pango.dll\" - It was found, so perhaps one of its dependents was not.  Try ldd.\r\n",
      "\n"
     ]
    }
   ],
   "execution_count": 3
  },
  {
   "metadata": {},
   "cell_type": "code",
   "outputs": [],
   "execution_count": null,
   "source": "",
   "id": "e15564c5ff1feb2f"
  }
 ],
 "metadata": {
  "kernelspec": {
   "display_name": "Conda(langgraph)",
   "language": "python",
   "name": "langgraph_kernel"
  },
  "language_info": {
   "codemirror_mode": {
    "name": "ipython",
    "version": 2
   },
   "file_extension": ".py",
   "mimetype": "text/x-python",
   "name": "python",
   "nbconvert_exporter": "python",
   "pygments_lexer": "ipython2",
   "version": "2.7.6"
  }
 },
 "nbformat": 4,
 "nbformat_minor": 5
}
